{
 "cells": [
  {
   "cell_type": "markdown",
   "metadata": {},
   "source": [
    "# Histogramas en Python"
   ]
  },
  {
   "cell_type": "markdown",
   "metadata": {},
   "source": [
    "## Histogramas en Python puro"
   ]
  },
  {
   "cell_type": "code",
   "execution_count": 1,
   "metadata": {},
   "outputs": [],
   "source": [
    "x = (0,1,1,1,2,2,3,7,7,7,25)"
   ]
  },
  {
   "cell_type": "code",
   "execution_count": 3,
   "metadata": {},
   "outputs": [],
   "source": [
    "def count_elements(seq) -> dict:\n",
    "    \"\"\"\n",
    "    Función que cuenta las frecuencias\n",
    "    de aparición de cada elemento de la\n",
    "    secuencia, creando un diccionario como\n",
    "    si fuese una tabla de frecuencias\n",
    "    \"\"\"\n",
    "    hist = {}\n",
    "    for i in seq:\n",
    "        hist[i] = hist.get(i, 0) + 1 # la función get permite coger el valor de la clave i, y si no existe coge un 0\n",
    "    return hist"
   ]
  },
  {
   "cell_type": "code",
   "execution_count": 4,
   "metadata": {},
   "outputs": [],
   "source": [
    "fAbs = count_elements(x)"
   ]
  },
  {
   "cell_type": "code",
   "execution_count": 5,
   "metadata": {},
   "outputs": [
    {
     "data": {
      "text/plain": [
       "{0: 1, 1: 3, 2: 2, 3: 1, 7: 3, 25: 1}"
      ]
     },
     "execution_count": 5,
     "metadata": {},
     "output_type": "execute_result"
    }
   ],
   "source": [
    "fAbs"
   ]
  },
  {
   "cell_type": "code",
   "execution_count": 6,
   "metadata": {},
   "outputs": [],
   "source": [
    "from collections import Counter #haría lo mismo"
   ]
  },
  {
   "cell_type": "code",
   "execution_count": 7,
   "metadata": {},
   "outputs": [],
   "source": [
    "fAbs2 = Counter(x)"
   ]
  },
  {
   "cell_type": "code",
   "execution_count": 8,
   "metadata": {},
   "outputs": [
    {
     "data": {
      "text/plain": [
       "Counter({0: 1, 1: 3, 2: 2, 3: 1, 7: 3, 25: 1})"
      ]
     },
     "execution_count": 8,
     "metadata": {},
     "output_type": "execute_result"
    }
   ],
   "source": [
    "fAbs2"
   ]
  },
  {
   "cell_type": "code",
   "execution_count": 9,
   "metadata": {},
   "outputs": [
    {
     "data": {
      "text/plain": [
       "True"
      ]
     },
     "execution_count": 9,
     "metadata": {},
     "output_type": "execute_result"
    }
   ],
   "source": [
    "fAbs.items() == fAbs2.items()"
   ]
  },
  {
   "cell_type": "code",
   "execution_count": 10,
   "metadata": {},
   "outputs": [],
   "source": [
    "def ascii_histogram(seq) -> None: #ASCII es el estándar universal de caracteres\n",
    "    \"\"\"\n",
    "    Un histograma de frecuencias absolutas\n",
    "    colocado en horizontal y con caracteres ASCII\n",
    "    \"\"\"\n",
    "    fAbs = count_elements(seq)\n",
    "    for k in sorted(fAbs):\n",
    "        print('{0:5d} {1}'.format(k, '+'*fAbs[k])) #el {0:5d} reserva un espacio para poner de 0 a 5 dígitos depdneindo de cuánto ocupe k. El otro {} se reserva para poner + el nº de veces que esté repetido el valor"
   ]
  },
  {
   "cell_type": "code",
   "execution_count": 11,
   "metadata": {},
   "outputs": [
    {
     "name": "stdout",
     "output_type": "stream",
     "text": [
      "    0 +\n",
      "    1 +++\n",
      "    2 ++\n",
      "    3 +\n",
      "    7 +++\n",
      "   25 +\n"
     ]
    }
   ],
   "source": [
    "ascii_histogram(x)"
   ]
  },
  {
   "cell_type": "code",
   "execution_count": 24,
   "metadata": {},
   "outputs": [],
   "source": [
    "import random\n",
    "random.seed(2019)"
   ]
  },
  {
   "cell_type": "code",
   "execution_count": 25,
   "metadata": {},
   "outputs": [],
   "source": [
    "vals = [1,2,3,5,7,8,9,10]\n",
    "freqs = (random.randint(5,20) for _ in vals) #paar cada valor en vals genero un nº aleatorio entre 5 y 20"
   ]
  },
  {
   "cell_type": "code",
   "execution_count": 26,
   "metadata": {},
   "outputs": [],
   "source": [
    "data = []\n",
    "for k, v in zip(vals, freqs):\n",
    "    data.extend([k]*v)"
   ]
  },
  {
   "cell_type": "code",
   "execution_count": 27,
   "metadata": {},
   "outputs": [
    {
     "name": "stdout",
     "output_type": "stream",
     "text": [
      "    1 +++++++++\n",
      "    2 ++++++++++++\n",
      "    3 ++++++++++++++++++++\n",
      "    5 ++++++++++\n",
      "    7 ++++++++++++\n",
      "    8 ++++++++++++\n",
      "    9 +++++++++++++++\n",
      "   10 ++++++++++++++\n"
     ]
    }
   ],
   "source": [
    "ascii_histogram(data)"
   ]
  },
  {
   "cell_type": "markdown",
   "metadata": {},
   "source": [
    "Histogramas con NumPy"
   ]
  },
  {
   "cell_type": "code",
   "execution_count": null,
   "metadata": {},
   "outputs": [],
   "source": [
    "import numpy as np\n",
    "np.random.seed(2019)\n",
    "np.set_printoptions(precision=3) # seestablecen lso parámetros de numpay. precision = 3 imprime hasta 3 decimales"
   ]
  },
  {
   "cell_type": "code",
   "execution_count": null,
   "metadata": {},
   "outputs": [],
   "source": [
    "x = np.random.laplace(loc = 10, scale=3, size=1000) #laplace es un tipo de distribución\n",
    "hist, bin_edges = np.histogram(x) # en hist guardo los valores y bin_edges los límites de lso intervalos que ya lo genera la función np.histogram. Por defecto hace 10 divisiones de la misma amplitud cerrados por la izq (lo que no se adaptaría bien a cualquier muestra)\n"
   ]
  },
  {
   "cell_type": "code",
   "execution_count": null,
   "metadata": {},
   "outputs": [],
   "source": [
    "bcount = pd.bincount(x) #crea un array con las frecuencias de cada valor, incluidos los valores que tengan 0 desde el valor min hasta el max (el max en el ejemplo x era 25)\n",
    "dict(zip(np.unique(x),bcount.nonzero[])) #se crea un diccionario con lso valores únicos de x y los valores que no sean 0 del array bcount creado y se consigue el mismo resultado que en el ejemplo de python puro"
   ]
  },
  {
   "cell_type": "markdown",
   "metadata": {},
   "source": [
    "VISUALIZACIÓN CON MATPLOT Y PANDAS"
   ]
  },
  {
   "cell_type": "code",
   "execution_count": null,
   "metadata": {},
   "outputs": [],
   "source": [
    "import matplotlib.pyplot as plt\n",
    "#vamos a usar el objeto de pandas creado antes (x)"
   ]
  },
  {
   "cell_type": "code",
   "execution_count": null,
   "metadata": {},
   "outputs": [],
   "source": [
    "n, bins, patches = plt.hist(x = x, bins=\"auto\", color = \"#0505a5\", alpha = 0.75, rwidth=0.85)\n",
    "#el color está en formato hexadecimal, alpha se refiere a transparencia\n",
    "# en \"n\" se guardan las frecuencias\n",
    "# en \"bins\" los límites de los intervalos\n",
    "# en \"patches\" el nº de divisiones\n",
    "plt.grid(axis = \"y\", alpha = 0.5) #añade las líneas de fondo en y\n",
    "plt.xlabel(\"Valor\") #etiqueta de x\n",
    "plt.ylabel (\"Frecuencia\") #etiqueta de y\n",
    "plt.title(\"Histograma de frecuencias\") #título\n"
   ]
  },
  {
   "cell_type": "code",
   "execution_count": null,
   "metadata": {},
   "outputs": [],
   "source": [
    "import pandas as pd\n",
    "#el único requisito es que los objetos que queramos representar con pandas tiene que pasar a ser un objeto \"series\". Pandas por detrás utiliza pyplot\n",
    "#si se aplica el histograma a un dataFreme de pandas, crea un histograma paar cada unoa de als columnas numéricas del dataframe\n",
    "sixe, scale = 1000, 10\n",
    "data = pd.Series(np.random.gamma(scale, size = size)) #gamma es otro tipo de distribución\n",
    "data.plot.hist(grid = True, bins = 20, rwidth = 0.9, color = \"#d52675\")\n",
    "plt.title(\"Distribución gamma\")"
   ]
  },
  {
   "cell_type": "markdown",
   "metadata": {},
   "source": [
    "FUNCION DENSIDAD Y PROBABILIDAD"
   ]
  },
  {
   "cell_type": "code",
   "execution_count": null,
   "metadata": {},
   "outputs": [],
   "source": [
    "media = 10 ,20 \n",
    "sd = 5,2\n",
    "\n",
    "# se crea un dataframe con dos columans con dos distribuciones diferentes con las características de la media y la sd particular de cada una\n",
    "dist = pd.DataFrame(np.random.normal(loc = media, scale = sd, size = (1000,2)), columns = [\"x1\", \"x2\"])\n",
    "dist.agg([\"min\", \"max\",\"mean\", \"std\"]).round(decimals = 2) # se pasa un array de funciones con unos descriptores genéricos de las dos distribuciones"
   ]
  },
  {
   "cell_type": "code",
   "execution_count": null,
   "metadata": {},
   "outputs": [],
   "source": [
    "fig, ax = plt.subplots() #se crean al figura y los ejes\n",
    "dist.plot.kde(ax=ax, legend = False, title = \"Histograma de dos normales\") #kernel density estimator\n",
    "dist.plot.hist(density = True, ax=ax)#density True coge la frecuencia relativa. Para que al combinar los dos gráficos se vea. Si no, alguansbarras de la frecuencai absoluta podría irse muy hacia arriba\n",
    "ax.set_ylabel(\"Probabilidad\")\n",
    "ax.grid(axis = \"y\", alpha = 0.75)\n",
    "ax.set_facecolor(\"#d5d5d5\")"
   ]
  },
  {
   "cell_type": "markdown",
   "metadata": {},
   "source": [
    "PINTAR LA DISTRIBUCIÓN TEÓRICA Y LA DE LA MUESTRA"
   ]
  },
  {
   "cell_type": "code",
   "execution_count": null,
   "metadata": {},
   "outputs": [],
   "source": [
    "from scipy import stats\n",
    "dist = stats.norm() #distribución normal teórica\n",
    "sample = dist.rvs(size = 1000) #se crea los datos en base a una distribución normal\n",
    "\n",
    "x = np.linspace(start = stats.norm.ppf(0.01), stop = stats.norm.ppf(0.99), num = 250) #se generan los cuantiles que irían en el eje de las x. Para que empiece desde e l1% más pequeño ahsta el 99% más grande. Se generan 250 puntos en el eje de las X\n",
    "\n",
    "gkde = stats.gaussian_kde(dataset = sample) #se calcula la distribución de la meustra. Python utilzia la gausiana\n",
    "#de esta forma ya tenemos la teórica (dist) y la que tiene realmente la muestra (gkde)\n",
    "\n",
    "fig, ax = plt.subplots()\n",
    "\n",
    "ax.plot(x,dist.pdf(x), linestyle = \"solid\", c=\"red\", lw = 3, alpha = 0.8, label = \"Distribución normal teórica\") #se crea la línea con la distribución teórica. En en eje x irá lso valroes creados en x. En el eje y la distribución teórica (probability density function de x)\n",
    "ax.plot(x = x, gkde.evaluate(x), linestyle = \"dashed\", c=\"green\", lw = 2, label = \"PDF estimada por KDE\")\n",
    "#se crea la línea con la distribución específica de la muestra. En en eje x irá los valroes creados en x. En el eje y la distribución de la muestra utilizando la función evaluate de gkde en base a la x\n",
    "ax.legend(loc = \"best\", frameon= False) #best l ocoloca en donde cree que es mejor\n",
    "ax.set_title(\"Normal analítica vs estimada\")\n",
    "ax.set_ylabel(\"Probabilidad\")\n",
    "\n",
    "plt.show()"
   ]
  },
  {
   "cell_type": "markdown",
   "metadata": {},
   "source": [
    "PINTAR CON LIBRERÍA SEABORN"
   ]
  },
  {
   "cell_type": "code",
   "execution_count": null,
   "metadata": {},
   "outputs": [],
   "source": [
    "import seaborn as sb\n",
    "#seaborn crea directamente las barras de frecuencia y la función de probabilidad de la propia muestra\n",
    "\n",
    "sb.distplot(data, fit=stats.norm, kde = False) #se puede elegir en fit la distribución teórica que queramos añadir\n",
    "sb.set_style(\"darkgrid\")"
   ]
  }
 ],
 "metadata": {
  "kernelspec": {
   "display_name": "Python 3",
   "language": "python",
   "name": "python3"
  },
  "language_info": {
   "codemirror_mode": {
    "name": "ipython",
    "version": 3
   },
   "file_extension": ".py",
   "mimetype": "text/x-python",
   "name": "python",
   "nbconvert_exporter": "python",
   "pygments_lexer": "ipython3",
   "version": "3.5.5"
  }
 },
 "nbformat": 4,
 "nbformat_minor": 2
}